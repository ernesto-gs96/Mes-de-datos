{
  "cells": [
    {
      "attachments": {},
      "cell_type": "markdown",
      "metadata": {},
      "source": [
        "# Ejercicio: Conjuntos de datos en Python\n",
        "\n",
        "En el ejercicio anterior, cargamos algunos datos y ajustamos un modelo a ellos. Se simplificaron varios aspectos de esto, particularmente que los datos estaban codificados en nuestro script de python, y no pasamos ningún tiempo realmente mirando los datos en sí.\n",
        "\n",
        "Aquí, cargaremos datos de un archivo, los filtraremos y los graficaremos. Hacerlo es un primer paso muy importante para construir modelos adecuados o para comprender sus limitaciones.\n",
        "\n",
        "## Cargar datos con Pandas\n",
        "Hay una gran variedad de bibliotecas que le ayudan a trabajar con datos. En Python, uno de los más comunes es Pandas. Usamos pandas brevemente en el ejercicio anterior. Los pandas pueden abrir datos guardados como archivos de texto y almacenarlos en una tabla organizada llamada .DataFrame\n",
        "\n",
        "Vamos a abrir algunos datos de texto que están almacenados en el disco. Nuestros datos se guardan en un archivo llamado .doggy-boot-harness.csv"
      ]
    },
    {
      "cell_type": "code",
      "execution_count": 1,
      "metadata": {},
      "outputs": [
        {
          "name": "stdout",
          "output_type": "stream",
          "text": [
            "--2023-03-30 00:49:13--  https://raw.githubusercontent.com/MicrosoftDocs/mslearn-introduction-to-machine-learning/main/graphing.py\n",
            "Resolving raw.githubusercontent.com (raw.githubusercontent.com)... 185.199.108.133, 185.199.109.133, 185.199.110.133, ...\n",
            "Connecting to raw.githubusercontent.com (raw.githubusercontent.com)|185.199.108.133|:443... connected.\n",
            "HTTP request sent, awaiting response... 200 OK\n",
            "Length: 21511 (21K) [text/plain]\n",
            "Saving to: ‘graphing.py.1’\n",
            "\n",
            "graphing.py.1       100%[===================>]  21.01K  --.-KB/s    in 0.001s  \n",
            "\n",
            "2023-03-30 00:49:13 (23.4 MB/s) - ‘graphing.py.1’ saved [21511/21511]\n",
            "\n",
            "--2023-03-30 00:49:14--  https://raw.githubusercontent.com/MicrosoftDocs/mslearn-introduction-to-machine-learning/main/Data/doggy-boot-harness.csv\n",
            "Resolving raw.githubusercontent.com (raw.githubusercontent.com)... 185.199.111.133, 185.199.110.133, 185.199.109.133, ...\n",
            "Connecting to raw.githubusercontent.com (raw.githubusercontent.com)|185.199.111.133|:443... connected.\n",
            "HTTP request sent, awaiting response... 200 OK\n",
            "Length: 838 [text/plain]\n",
            "Saving to: ‘doggy-boot-harness.csv.1’\n",
            "\n",
            "doggy-boot-harness. 100%[===================>]     838  --.-KB/s    in 0s      \n",
            "\n",
            "2023-03-30 00:49:14 (70.7 MB/s) - ‘doggy-boot-harness.csv.1’ saved [838/838]\n",
            "\n"
          ]
        },
        {
          "data": {
            "text/html": [
              "<div>\n",
              "<style scoped>\n",
              "    .dataframe tbody tr th:only-of-type {\n",
              "        vertical-align: middle;\n",
              "    }\n",
              "\n",
              "    .dataframe tbody tr th {\n",
              "        vertical-align: top;\n",
              "    }\n",
              "\n",
              "    .dataframe thead th {\n",
              "        text-align: right;\n",
              "    }\n",
              "</style>\n",
              "<table border=\"1\" class=\"dataframe\">\n",
              "  <thead>\n",
              "    <tr style=\"text-align: right;\">\n",
              "      <th></th>\n",
              "      <th>boot_size</th>\n",
              "      <th>harness_size</th>\n",
              "      <th>sex</th>\n",
              "      <th>age_years</th>\n",
              "    </tr>\n",
              "  </thead>\n",
              "  <tbody>\n",
              "    <tr>\n",
              "      <th>0</th>\n",
              "      <td>39</td>\n",
              "      <td>58</td>\n",
              "      <td>male</td>\n",
              "      <td>12.0</td>\n",
              "    </tr>\n",
              "    <tr>\n",
              "      <th>1</th>\n",
              "      <td>38</td>\n",
              "      <td>58</td>\n",
              "      <td>male</td>\n",
              "      <td>9.6</td>\n",
              "    </tr>\n",
              "    <tr>\n",
              "      <th>2</th>\n",
              "      <td>37</td>\n",
              "      <td>52</td>\n",
              "      <td>female</td>\n",
              "      <td>8.6</td>\n",
              "    </tr>\n",
              "    <tr>\n",
              "      <th>3</th>\n",
              "      <td>39</td>\n",
              "      <td>58</td>\n",
              "      <td>male</td>\n",
              "      <td>10.2</td>\n",
              "    </tr>\n",
              "    <tr>\n",
              "      <th>4</th>\n",
              "      <td>38</td>\n",
              "      <td>57</td>\n",
              "      <td>male</td>\n",
              "      <td>7.8</td>\n",
              "    </tr>\n",
              "  </tbody>\n",
              "</table>\n",
              "</div>"
            ],
            "text/plain": [
              "   boot_size  harness_size     sex  age_years\n",
              "0         39            58    male       12.0\n",
              "1         38            58    male        9.6\n",
              "2         37            52  female        8.6\n",
              "3         39            58    male       10.2\n",
              "4         38            57    male        7.8"
            ]
          },
          "execution_count": 1,
          "metadata": {},
          "output_type": "execute_result"
        }
      ],
      "source": [
        "import pandas\n",
        "!wget https://raw.githubusercontent.com/MicrosoftDocs/mslearn-introduction-to-machine-learning/main/graphing.py\n",
        "!wget https://raw.githubusercontent.com/MicrosoftDocs/mslearn-introduction-to-machine-learning/main/Data/doggy-boot-harness.csv\n",
        "\n",
        "# Read the text file containing data using pandas\n",
        "dataset = pandas.read_csv('doggy-boot-harness.csv')\n",
        "\n",
        "# Print the data\n",
        "# Because there are a lot of data, use head() to only print the first few rows\n",
        "dataset.head()"
      ]
    },
    {
      "attachments": {},
      "cell_type": "markdown",
      "metadata": {},
      "source": [
        "Como puede ver, este conjunto de datos contiene información sobre los perros, incluido el tamaño de su bota para perros, el tamaño del arnés, el sexo y la edad en años.\n",
        "\n",
        "Los datos se almacenan como columnas y filas, de forma similar a una tabla que puede ver en Excel.\n",
        "\n",
        "## Filtrar datos por columnas\n",
        "\n",
        "Los datos son fáciles de filtrar por columnas. Podemos escribir esto directamente, como , o así: .dataset.my_column_namedataset[\"my_column_name\"]\n",
        "\n",
        "Podemos usar esto para extraer datos o para eliminar datos.\n",
        "\n",
        "Echemos un vistazo a los tamaños del arnés y eliminemos las columnas y. sexage_years"
      ]
    },
    {
      "cell_type": "code",
      "execution_count": 2,
      "metadata": {},
      "outputs": [
        {
          "name": "stdout",
          "output_type": "stream",
          "text": [
            "Harness sizes\n",
            "0     58\n",
            "1     58\n",
            "2     52\n",
            "3     58\n",
            "4     57\n",
            "5     52\n",
            "6     55\n",
            "7     53\n",
            "8     49\n",
            "9     54\n",
            "10    59\n",
            "11    56\n",
            "12    53\n",
            "13    58\n",
            "14    57\n",
            "15    58\n",
            "16    56\n",
            "17    51\n",
            "18    50\n",
            "19    59\n",
            "20    59\n",
            "21    59\n",
            "22    55\n",
            "23    50\n",
            "24    55\n",
            "25    52\n",
            "26    53\n",
            "27    54\n",
            "28    61\n",
            "29    56\n",
            "30    55\n",
            "31    60\n",
            "32    57\n",
            "33    56\n",
            "34    61\n",
            "35    58\n",
            "36    53\n",
            "37    57\n",
            "38    57\n",
            "39    55\n",
            "40    60\n",
            "41    51\n",
            "42    52\n",
            "43    56\n",
            "44    55\n",
            "45    57\n",
            "46    58\n",
            "47    57\n",
            "48    51\n",
            "49    59\n",
            "Name: harness_size, dtype: int64\n",
            "\n",
            "Available columns after deleting sex and age information:\n",
            "['boot_size' 'harness_size']\n"
          ]
        }
      ],
      "source": [
        "\n",
        "# Look at the harness sizes\n",
        "print(\"Harness sizes\")\n",
        "print(dataset.harness_size)\n",
        "\n",
        "# Remove the sex and age-in-years columns.\n",
        "del dataset[\"sex\"]\n",
        "del dataset[\"age_years\"]\n",
        "\n",
        "# Print the column names\n",
        "print(\"\\nAvailable columns after deleting sex and age information:\")\n",
        "print(dataset.columns.values)\n"
      ]
    },
    {
      "attachments": {},
      "cell_type": "markdown",
      "metadata": {},
      "source": [
        "## Filtrar datos por filas\n",
        "\n",
        "Podemos obtener datos de la parte superior de la tabla usando la función, o de la parte inferior de la tabla usando la función. head()tail()\n",
        "\n",
        "Ambas funciones hacen una copia superficial de una sección de nuestro marco de datos. Aquí, estamos enviando estas copias a la función. Las vistas de cabeza y cola también se pueden utilizar para otros fines, como para su uso en análisis o gráficos.print()"
      ]
    },
    {
      "cell_type": "code",
      "execution_count": 3,
      "metadata": {},
      "outputs": [
        {
          "name": "stdout",
          "output_type": "stream",
          "text": [
            "TOP OF TABLE\n",
            "   boot_size  harness_size\n",
            "0         39            58\n",
            "1         38            58\n",
            "2         37            52\n",
            "3         39            58\n",
            "4         38            57\n",
            "\n",
            "BOTTOM OF TABLE\n",
            "    boot_size  harness_size\n",
            "45         41            57\n",
            "46         39            58\n",
            "47         39            57\n",
            "48         35            51\n",
            "49         39            59\n"
          ]
        }
      ],
      "source": [
        "# Print the data at the top of the table\n",
        "print(\"TOP OF TABLE\")\n",
        "print(dataset.head())\n",
        "\n",
        "# print the data at the bottom of the table\n",
        "print(\"\\nBOTTOM OF TABLE\")\n",
        "print(dataset.tail())"
      ]
    },
    {
      "attachments": {},
      "cell_type": "markdown",
      "metadata": {},
      "source": [
        "También podemos filtrar lógicamente. Por ejemplo, podemos ver los datos de los perros que tienen un arnés menor que una talla 55.\n",
        "\n",
        "Esto funciona calculando un valor o para cada fila, y luego manteniendo solo aquellas filas donde el valor es .TrueFalseTrue"
      ]
    },
    {
      "cell_type": "code",
      "execution_count": 4,
      "metadata": {},
      "outputs": [
        {
          "name": "stdout",
          "output_type": "stream",
          "text": [
            "We have 50 rows of data\n",
            "\n",
            "Whether the dog's harness was smaller than size 55:\n",
            "0     False\n",
            "1     False\n",
            "2      True\n",
            "3     False\n",
            "4     False\n",
            "5      True\n",
            "6     False\n",
            "7      True\n",
            "8      True\n",
            "9      True\n",
            "10    False\n",
            "11    False\n",
            "12     True\n",
            "13    False\n",
            "14    False\n",
            "15    False\n",
            "16    False\n",
            "17     True\n",
            "18     True\n",
            "19    False\n",
            "20    False\n",
            "21    False\n",
            "22    False\n",
            "23     True\n",
            "24    False\n",
            "25     True\n",
            "26     True\n",
            "27     True\n",
            "28    False\n",
            "29    False\n",
            "30    False\n",
            "31    False\n",
            "32    False\n",
            "33    False\n",
            "34    False\n",
            "35    False\n",
            "36     True\n",
            "37    False\n",
            "38    False\n",
            "39    False\n",
            "40    False\n",
            "41     True\n",
            "42     True\n",
            "43    False\n",
            "44    False\n",
            "45    False\n",
            "46    False\n",
            "47    False\n",
            "48     True\n",
            "49    False\n",
            "Name: harness_size, dtype: bool\n",
            "\n",
            "Data for dogs with harness smaller than size 55:\n",
            "    boot_size  harness_size\n",
            "2          37            52\n",
            "5          35            52\n",
            "7          36            53\n",
            "8          35            49\n",
            "9          40            54\n",
            "12         38            53\n",
            "17         36            51\n",
            "18         35            50\n",
            "23         35            50\n",
            "25         36            52\n",
            "26         35            53\n",
            "27         39            54\n",
            "36         36            53\n",
            "41         35            51\n",
            "42         36            52\n",
            "48         35            51\n",
            "\n",
            "Number of dogs with harness size less than 55: 16\n"
          ]
        }
      ],
      "source": [
        "# Print how many rows of data we have\n",
        "print(f\"We have {len(dataset)} rows of data\")\n",
        "\n",
        "# Determine whether each avalanche dog's harness size is < 55\n",
        "# This creates a True or False value for each row where True means \n",
        "# they are smaller than 55\n",
        "is_small = dataset.harness_size < 55\n",
        "print(\"\\nWhether the dog's harness was smaller than size 55:\")\n",
        "print(is_small)\n",
        "\n",
        "# Now apply this 'mask' to our data to keep the smaller dogs\n",
        "data_from_small_dogs = dataset[is_small]\n",
        "print(\"\\nData for dogs with harness smaller than size 55:\")\n",
        "print(data_from_small_dogs)\n",
        "\n",
        "# Print the number of small dogs\n",
        "print(f\"\\nNumber of dogs with harness size less than 55: {len(data_from_small_dogs)}\")"
      ]
    },
    {
      "attachments": {},
      "cell_type": "markdown",
      "metadata": {},
      "source": [
        "Esto parece mucho código, pero podemos comprimir las partes importantes en una sola línea.\n",
        "\n",
        "Hagamos algo similar: restrinjamos nuestros datos solo a aquellos con tamaños de arranque inferiores a 40."
      ]
    },
    {
      "cell_type": "code",
      "execution_count": 5,
      "metadata": {},
      "outputs": [
        {
          "name": "stdout",
          "output_type": "stream",
          "text": [
            "We now have 34 rows in our dataset. The last few rows are:\n"
          ]
        },
        {
          "data": {
            "text/html": [
              "<div>\n",
              "<style scoped>\n",
              "    .dataframe tbody tr th:only-of-type {\n",
              "        vertical-align: middle;\n",
              "    }\n",
              "\n",
              "    .dataframe tbody tr th {\n",
              "        vertical-align: top;\n",
              "    }\n",
              "\n",
              "    .dataframe thead th {\n",
              "        text-align: right;\n",
              "    }\n",
              "</style>\n",
              "<table border=\"1\" class=\"dataframe\">\n",
              "  <thead>\n",
              "    <tr style=\"text-align: right;\">\n",
              "      <th></th>\n",
              "      <th>boot_size</th>\n",
              "      <th>harness_size</th>\n",
              "    </tr>\n",
              "  </thead>\n",
              "  <tbody>\n",
              "    <tr>\n",
              "      <th>42</th>\n",
              "      <td>36</td>\n",
              "      <td>52</td>\n",
              "    </tr>\n",
              "    <tr>\n",
              "      <th>46</th>\n",
              "      <td>39</td>\n",
              "      <td>58</td>\n",
              "    </tr>\n",
              "    <tr>\n",
              "      <th>47</th>\n",
              "      <td>39</td>\n",
              "      <td>57</td>\n",
              "    </tr>\n",
              "    <tr>\n",
              "      <th>48</th>\n",
              "      <td>35</td>\n",
              "      <td>51</td>\n",
              "    </tr>\n",
              "    <tr>\n",
              "      <th>49</th>\n",
              "      <td>39</td>\n",
              "      <td>59</td>\n",
              "    </tr>\n",
              "  </tbody>\n",
              "</table>\n",
              "</div>"
            ],
            "text/plain": [
              "    boot_size  harness_size\n",
              "42         36            52\n",
              "46         39            58\n",
              "47         39            57\n",
              "48         35            51\n",
              "49         39            59"
            ]
          },
          "execution_count": 5,
          "metadata": {},
          "output_type": "execute_result"
        }
      ],
      "source": [
        "# Make a copy of the dataset that only contains dogs with \n",
        "# a boot size below size 40\n",
        "# The call to copy() is optional but can help avoid unexpected\n",
        "# behaviour in more complex scenarios\n",
        "data_smaller_paws = dataset[dataset.boot_size < 40].copy()\n",
        "\n",
        "\n",
        "# Print information about this\n",
        "print(f\"We now have {len(data_smaller_paws)} rows in our dataset. The last few rows are:\")\n",
        "data_smaller_paws.tail()"
      ]
    },
    {
      "attachments": {},
      "cell_type": "markdown",
      "metadata": {},
      "source": [
        "## Datos gráficos\n",
        "\n",
        "Graficar datos es a menudo la forma más fácil de entenderlos.\n",
        "\n",
        "En estos ejercicios, solemos hacer nuestros gráficos usando código en un archivo personalizado que hemos creado, llamado , que puedes ver en nuestra página de github.graphing.py\n",
        "\n",
        "Sin embargo, aquí practicaremos cómo hacer un gráfico sin este código personalizado.\n",
        "\n",
        "Hagamos un gráfico simple del tamaño del arnés frente al tamaño de la bota para nuestros perros de avalancha con pies más pequeños."
      ]
    },
    {
      "cell_type": "code",
      "execution_count": 6,
      "metadata": {},
      "outputs": [
        {
          "name": "stderr",
          "output_type": "stream",
          "text": [
            "/anaconda/envs/py38_default/lib/python3.8/site-packages/scipy/__init__.py:146: UserWarning: A NumPy version >=1.16.5 and <1.23.0 is required for this version of SciPy (detected version 1.23.3\n",
            "  warnings.warn(f\"A NumPy version >={np_minversion} and <{np_maxversion}\"\n"
          ]
        },
        {
          "ename": "AttributeError",
          "evalue": "module 'dask.array' has no attribute 'lib'",
          "output_type": "error",
          "traceback": [
            "\u001b[0;31m---------------------------------------------------------------------------\u001b[0m",
            "\u001b[0;31mAttributeError\u001b[0m                            Traceback (most recent call last)",
            "Input \u001b[0;32mIn [6]\u001b[0m, in \u001b[0;36m<cell line: 2>\u001b[0;34m()\u001b[0m\n\u001b[1;32m      1\u001b[0m \u001b[38;5;66;03m# Load and prepare plotly to create our graphs\u001b[39;00m\n\u001b[0;32m----> 2\u001b[0m \u001b[38;5;28;01mimport\u001b[39;00m \u001b[38;5;21;01mplotly\u001b[39;00m\u001b[38;5;21;01m.\u001b[39;00m\u001b[38;5;21;01mexpress\u001b[39;00m\n\u001b[1;32m      3\u001b[0m \u001b[38;5;28;01mimport\u001b[39;00m \u001b[38;5;21;01mgraphing\u001b[39;00m \u001b[38;5;66;03m# this is a custom file you can find in our code on github\u001b[39;00m\n\u001b[1;32m      5\u001b[0m \u001b[38;5;66;03m# Show a graph of harness size by boot size:\u001b[39;00m\n",
            "File \u001b[0;32m/anaconda/envs/py38_default/lib/python3.8/site-packages/plotly/express/__init__.py:15\u001b[0m, in \u001b[0;36m<module>\u001b[0;34m\u001b[0m\n\u001b[1;32m      9\u001b[0m \u001b[38;5;28;01mif\u001b[39;00m pd \u001b[38;5;129;01mis\u001b[39;00m \u001b[38;5;28;01mNone\u001b[39;00m:\n\u001b[1;32m     10\u001b[0m     \u001b[38;5;28;01mraise\u001b[39;00m \u001b[38;5;167;01mImportError\u001b[39;00m(\n\u001b[1;32m     11\u001b[0m         \u001b[38;5;124;03m\"\"\"\\\u001b[39;00m\n\u001b[1;32m     12\u001b[0m \u001b[38;5;124;03mPlotly express requires pandas to be installed.\"\"\"\u001b[39;00m\n\u001b[1;32m     13\u001b[0m     )\n\u001b[0;32m---> 15\u001b[0m \u001b[38;5;28;01mfrom\u001b[39;00m \u001b[38;5;21;01m.\u001b[39;00m\u001b[38;5;21;01m_imshow\u001b[39;00m \u001b[38;5;28;01mimport\u001b[39;00m imshow\n\u001b[1;32m     16\u001b[0m \u001b[38;5;28;01mfrom\u001b[39;00m \u001b[38;5;21;01m.\u001b[39;00m\u001b[38;5;21;01m_chart_types\u001b[39;00m \u001b[38;5;28;01mimport\u001b[39;00m (  \u001b[38;5;66;03m# noqa: F401\u001b[39;00m\n\u001b[1;32m     17\u001b[0m     scatter,\n\u001b[1;32m     18\u001b[0m     scatter_3d,\n\u001b[0;32m   (...)\u001b[0m\n\u001b[1;32m     51\u001b[0m     density_mapbox,\n\u001b[1;32m     52\u001b[0m )\n\u001b[1;32m     55\u001b[0m \u001b[38;5;28;01mfrom\u001b[39;00m \u001b[38;5;21;01m.\u001b[39;00m\u001b[38;5;21;01m_core\u001b[39;00m \u001b[38;5;28;01mimport\u001b[39;00m (  \u001b[38;5;66;03m# noqa: F401\u001b[39;00m\n\u001b[1;32m     56\u001b[0m     set_mapbox_access_token,\n\u001b[1;32m     57\u001b[0m     defaults,\n\u001b[1;32m     58\u001b[0m     get_trendline_results,\n\u001b[1;32m     59\u001b[0m     NO_COLOR,\n\u001b[1;32m     60\u001b[0m )\n",
            "File \u001b[0;32m/anaconda/envs/py38_default/lib/python3.8/site-packages/plotly/express/_imshow.py:11\u001b[0m, in \u001b[0;36m<module>\u001b[0;34m\u001b[0m\n\u001b[1;32m      8\u001b[0m \u001b[38;5;28;01mfrom\u001b[39;00m \u001b[38;5;21;01mplotly\u001b[39;00m\u001b[38;5;21;01m.\u001b[39;00m\u001b[38;5;21;01mutils\u001b[39;00m \u001b[38;5;28;01mimport\u001b[39;00m image_array_to_data_uri\n\u001b[1;32m     10\u001b[0m \u001b[38;5;28;01mtry\u001b[39;00m:\n\u001b[0;32m---> 11\u001b[0m     \u001b[38;5;28;01mimport\u001b[39;00m \u001b[38;5;21;01mxarray\u001b[39;00m\n\u001b[1;32m     13\u001b[0m     xarray_imported \u001b[38;5;241m=\u001b[39m \u001b[38;5;28;01mTrue\u001b[39;00m\n\u001b[1;32m     14\u001b[0m \u001b[38;5;28;01mexcept\u001b[39;00m \u001b[38;5;167;01mImportError\u001b[39;00m:\n",
            "File \u001b[0;32m/anaconda/envs/py38_default/lib/python3.8/site-packages/xarray/__init__.py:1\u001b[0m, in \u001b[0;36m<module>\u001b[0;34m\u001b[0m\n\u001b[0;32m----> 1\u001b[0m \u001b[38;5;28;01mfrom\u001b[39;00m \u001b[38;5;21;01m.\u001b[39;00m \u001b[38;5;28;01mimport\u001b[39;00m testing, tutorial\n\u001b[1;32m      2\u001b[0m \u001b[38;5;28;01mfrom\u001b[39;00m \u001b[38;5;21;01m.\u001b[39;00m\u001b[38;5;21;01mbackends\u001b[39;00m\u001b[38;5;21;01m.\u001b[39;00m\u001b[38;5;21;01mapi\u001b[39;00m \u001b[38;5;28;01mimport\u001b[39;00m (\n\u001b[1;32m      3\u001b[0m     load_dataarray,\n\u001b[1;32m      4\u001b[0m     load_dataset,\n\u001b[0;32m   (...)\u001b[0m\n\u001b[1;32m      8\u001b[0m     save_mfdataset,\n\u001b[1;32m      9\u001b[0m )\n\u001b[1;32m     10\u001b[0m \u001b[38;5;28;01mfrom\u001b[39;00m \u001b[38;5;21;01m.\u001b[39;00m\u001b[38;5;21;01mbackends\u001b[39;00m\u001b[38;5;21;01m.\u001b[39;00m\u001b[38;5;21;01mrasterio_\u001b[39;00m \u001b[38;5;28;01mimport\u001b[39;00m open_rasterio\n",
            "File \u001b[0;32m/anaconda/envs/py38_default/lib/python3.8/site-packages/xarray/testing.py:9\u001b[0m, in \u001b[0;36m<module>\u001b[0;34m\u001b[0m\n\u001b[1;32m      6\u001b[0m \u001b[38;5;28;01mimport\u001b[39;00m \u001b[38;5;21;01mnumpy\u001b[39;00m \u001b[38;5;28;01mas\u001b[39;00m \u001b[38;5;21;01mnp\u001b[39;00m\n\u001b[1;32m      7\u001b[0m \u001b[38;5;28;01mimport\u001b[39;00m \u001b[38;5;21;01mpandas\u001b[39;00m \u001b[38;5;28;01mas\u001b[39;00m \u001b[38;5;21;01mpd\u001b[39;00m\n\u001b[0;32m----> 9\u001b[0m \u001b[38;5;28;01mfrom\u001b[39;00m \u001b[38;5;21;01mxarray\u001b[39;00m\u001b[38;5;21;01m.\u001b[39;00m\u001b[38;5;21;01mcore\u001b[39;00m \u001b[38;5;28;01mimport\u001b[39;00m duck_array_ops, formatting, utils\n\u001b[1;32m     10\u001b[0m \u001b[38;5;28;01mfrom\u001b[39;00m \u001b[38;5;21;01mxarray\u001b[39;00m\u001b[38;5;21;01m.\u001b[39;00m\u001b[38;5;21;01mcore\u001b[39;00m\u001b[38;5;21;01m.\u001b[39;00m\u001b[38;5;21;01mdataarray\u001b[39;00m \u001b[38;5;28;01mimport\u001b[39;00m DataArray\n\u001b[1;32m     11\u001b[0m \u001b[38;5;28;01mfrom\u001b[39;00m \u001b[38;5;21;01mxarray\u001b[39;00m\u001b[38;5;21;01m.\u001b[39;00m\u001b[38;5;21;01mcore\u001b[39;00m\u001b[38;5;21;01m.\u001b[39;00m\u001b[38;5;21;01mdataset\u001b[39;00m \u001b[38;5;28;01mimport\u001b[39;00m Dataset\n",
            "File \u001b[0;32m/anaconda/envs/py38_default/lib/python3.8/site-packages/xarray/core/duck_array_ops.py:26\u001b[0m, in \u001b[0;36m<module>\u001b[0;34m\u001b[0m\n\u001b[1;32m     23\u001b[0m \u001b[38;5;28;01mfrom\u001b[39;00m \u001b[38;5;21;01mnumpy\u001b[39;00m \u001b[38;5;28;01mimport\u001b[39;00m take, tensordot, transpose, unravel_index  \u001b[38;5;66;03m# noqa\u001b[39;00m\n\u001b[1;32m     24\u001b[0m \u001b[38;5;28;01mfrom\u001b[39;00m \u001b[38;5;21;01mnumpy\u001b[39;00m \u001b[38;5;28;01mimport\u001b[39;00m where \u001b[38;5;28;01mas\u001b[39;00m _where\n\u001b[0;32m---> 26\u001b[0m \u001b[38;5;28;01mfrom\u001b[39;00m \u001b[38;5;21;01m.\u001b[39;00m \u001b[38;5;28;01mimport\u001b[39;00m dask_array_compat, dask_array_ops, dtypes, npcompat, nputils\n\u001b[1;32m     27\u001b[0m \u001b[38;5;28;01mfrom\u001b[39;00m \u001b[38;5;21;01m.\u001b[39;00m\u001b[38;5;21;01mnputils\u001b[39;00m \u001b[38;5;28;01mimport\u001b[39;00m nanfirst, nanlast\n\u001b[1;32m     28\u001b[0m \u001b[38;5;28;01mfrom\u001b[39;00m \u001b[38;5;21;01m.\u001b[39;00m\u001b[38;5;21;01mpycompat\u001b[39;00m \u001b[38;5;28;01mimport\u001b[39;00m cupy_array_type, dask_array_type, is_duck_dask_array\n",
            "File \u001b[0;32m/anaconda/envs/py38_default/lib/python3.8/site-packages/xarray/core/dask_array_compat.py:60\u001b[0m, in \u001b[0;36m<module>\u001b[0;34m\u001b[0m\n\u001b[1;32m     56\u001b[0m     \u001b[38;5;28;01mreturn\u001b[39;00m padded\n\u001b[1;32m     59\u001b[0m \u001b[38;5;28;01mif\u001b[39;00m da \u001b[38;5;129;01mis\u001b[39;00m \u001b[38;5;129;01mnot\u001b[39;00m \u001b[38;5;28;01mNone\u001b[39;00m:\n\u001b[0;32m---> 60\u001b[0m     sliding_window_view \u001b[38;5;241m=\u001b[39m \u001b[43mda\u001b[49m\u001b[38;5;241;43m.\u001b[39;49m\u001b[43mlib\u001b[49m\u001b[38;5;241m.\u001b[39mstride_tricks\u001b[38;5;241m.\u001b[39msliding_window_view\n\u001b[1;32m     61\u001b[0m \u001b[38;5;28;01melse\u001b[39;00m:\n\u001b[1;32m     62\u001b[0m     sliding_window_view \u001b[38;5;241m=\u001b[39m \u001b[38;5;28;01mNone\u001b[39;00m\n",
            "\u001b[0;31mAttributeError\u001b[0m: module 'dask.array' has no attribute 'lib'"
          ]
        }
      ],
      "source": [
        "# Load and prepare plotly to create our graphs\n",
        "import plotly.express\n",
        "import graphing # this is a custom file you can find in our code on github\n",
        "\n",
        "# Show a graph of harness size by boot size:\n",
        "plotly.express.scatter(data_smaller_paws, x=\"harness_size\", y=\"boot_size\")"
      ]
    },
    {
      "attachments": {},
      "cell_type": "markdown",
      "metadata": {},
      "source": [
        "## Crear nuevas columnas\n",
        "\n",
        "El gráfico anterior muestra la relación que queremos investigar para nuestra tienda, pero algunos clientes pueden querer listas de tamaño de arnés en pulgadas, no en centímetros. ¿Cómo podemos ver estos tamaños de arnés en unidades imperiales?\n",
        "\n",
        "Para hacer esto, necesitaremos crear una nueva columna llamada y ponerla en el eje X en su lugar.harness_size_imperial\n",
        "\n",
        "La creación de nuevas columnas utiliza una sintaxis muy similar a la que hemos visto antes."
      ]
    },
    {
      "cell_type": "code",
      "execution_count": null,
      "metadata": {},
      "outputs": [],
      "source": [
        "# Convert harness sizes from metric to imperial units \n",
        "# and save the result to a new column\n",
        "data_smaller_paws['harness_size_imperial'] = data_smaller_paws.harness_size / 2.54\n",
        "\n",
        "# Show a graph of harness size in imperial units\n",
        "plotly.express.scatter(data_smaller_paws, x=\"harness_size_imperial\", y=\"boot_size\")"
      ]
    },
    {
      "attachments": {},
      "cell_type": "markdown",
      "metadata": {},
      "source": [
        "Ahora hemos graficado nuestra nueva columna de datos () contra el tamaño de la bota para perros con patas pequeñas.harness_size_imperial"
      ]
    }
  ],
  "metadata": {
    "kernel_info": {
      "name": "spark-3-python"
    },
    "kernelspec": {
      "display_name": "Python 3.8 - Spark (local)",
      "language": "python",
      "name": "spark-3-python"
    },
    "language_info": {
      "codemirror_mode": {
        "name": "ipython",
        "version": 3
      },
      "file_extension": ".py",
      "mimetype": "text/x-python",
      "name": "python",
      "nbconvert_exporter": "python",
      "pygments_lexer": "ipython3",
      "version": "3.8.13"
    },
    "nteract": {
      "version": "nteract-front-end@1.0.0"
    },
    "vscode": {
      "interpreter": {
        "hash": "d986dcce87f8efbe64f9555c9767535f3ea76b09442c50f327a793e0b4903fbe"
      }
    }
  },
  "nbformat": 4,
  "nbformat_minor": 2
}
