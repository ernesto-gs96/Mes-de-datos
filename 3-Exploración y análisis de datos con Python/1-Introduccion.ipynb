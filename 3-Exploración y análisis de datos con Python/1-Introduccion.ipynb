{
 "cells": [
  {
   "attachments": {},
   "cell_type": "markdown",
   "metadata": {},
   "source": [
    "Python ofrece una amplia funcionalidad con eficaces bibliotecas estadísticas y numéricas:\n",
    "\n",
    "1.- NumPy y Pandas simplifican el análisis y la manipulación de datos.\n",
    "\n",
    "2.- Matplotlib proporciona visualizaciones de datos atractivas.\n",
    "\n",
    "3.- Scikit-learn ofrece análisis de datos predictivo sencillo y eficaz.\n",
    "\n",
    "4.- TensorFlow y PyTorch suministran funcionalidades de aprendizaje automático y aprendizaje profundo."
   ]
  },
  {
   "attachments": {},
   "cell_type": "markdown",
   "metadata": {},
   "source": [
    "NumPy\n",
    "\n",
    "NumPy es una biblioteca de Python que ofrece una funcionalidad comparable a la de herramientas matemáticas como MATLAB y R. Aunque NumPy simplifica considerablemente la experiencia del usuario, también ofrece funciones matemáticas completas."
   ]
  },
  {
   "attachments": {},
   "cell_type": "markdown",
   "metadata": {},
   "source": [
    "Pandas\n",
    "\n",
    "Pandas es una biblioteca de Python muy conocida para el análisis y la manipulación de datos. Pandas es como el Excel de Python: proporciona una funcionalidad fácil de usar para las tablas de datos."
   ]
  },
  {
   "attachments": {},
   "cell_type": "markdown",
   "metadata": {},
   "source": [
    "Prueba de hipótesis\n",
    "\n",
    "La exploración y el análisis de datos suele ser un proceso iterativo en el que el científico de datos toma una muestra de los datos y realiza las siguientes tareas para analizarlos y probar una hipótesis:\n",
    "\n",
    "1.- Limpiar los datos para controlar errores, valores que faltan y otros problemas.\n",
    "\n",
    "2.- Aplicar técnicas estadísticas para comprender mejor los datos y cómo se puede esperar que la muestra represente la población de datos del mundo real, teniendo en cuenta la variación aleatoria.\n",
    "\n",
    "3.- Visualizar los datos para determinar las relaciones entre variables y, en el caso de un proyecto de aprendizaje automático, identificar las características que potencialmente se pueden predecir de la etiqueta.\n",
    "\n",
    "4.- Revisión de hipótesis y repetición del proceso."
   ]
  }
 ],
 "metadata": {
  "language_info": {
   "name": "python"
  },
  "orig_nbformat": 4
 },
 "nbformat": 4,
 "nbformat_minor": 2
}
